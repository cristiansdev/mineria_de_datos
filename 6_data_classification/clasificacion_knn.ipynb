{
 "cells": [
  {
   "cell_type": "markdown",
   "id": "9206b458",
   "metadata": {},
   "source": [
    "# Actividad 6: Clasificación con KNN\n",
    "\n",
    "Este notebook implementa un modelo de clasificación utilizando el algoritmo K-Nearest Neighbors (KNN) para predecir la categoría de calificación IMDB de una película.  \n",
    "Incluye balance de clases, normalización de datos y análisis de desempeño con métricas y matriz de confusión.\n",
    "\n",
    "## Objetivos\n",
    "- Crear una variable categórica basada en la puntuación IMDB.\n",
    "- Entrenar un modelo KNN.\n",
    "- Evaluar el desempeño del modelo.\n"
   ]
  },
  {
   "cell_type": "code",
   "execution_count": 7,
   "id": "7ba9d0c6",
   "metadata": {},
   "outputs": [],
   "source": [
    "import pandas as pd\n",
    "import numpy as np\n",
    "from sklearn.model_selection import train_test_split\n",
    "from sklearn.preprocessing import StandardScaler\n",
    "from sklearn.neighbors import KNeighborsClassifier\n",
    "from sklearn.metrics import classification_report, accuracy_score, confusion_matrix, ConfusionMatrixDisplay\n",
    "import matplotlib.pyplot as plt\n"
   ]
  },
  {
   "cell_type": "code",
   "execution_count": 8,
   "id": "163ff313",
   "metadata": {},
   "outputs": [
    {
     "name": "stdout",
     "output_type": "stream",
     "text": [
      "clasificacion_imdb\n",
      "Media    3253\n",
      "Baja      853\n",
      "Alta      813\n",
      "Name: count, dtype: int64\n"
     ]
    }
   ],
   "source": [
    "# Cargar el dataset limpio\n",
    "df = pd.read_csv('../1_data_cleaning/dataset_limpio.csv')\n",
    "\n",
    "# Clasificar películas según score\n",
    "def clasificar(score):\n",
    "    if score >= 7.5:\n",
    "        return 'Alta'\n",
    "    elif score >= 5.5:\n",
    "        return 'Media'\n",
    "    else:\n",
    "        return 'Baja'\n",
    "\n",
    "df['clasificacion_imdb'] = df['imdb_score'].apply(clasificar)\n",
    "print(df['clasificacion_imdb'].value_counts())\n"
   ]
  },
  {
   "cell_type": "code",
   "execution_count": 9,
   "id": "417bb0a4",
   "metadata": {},
   "outputs": [],
   "source": [
    "# Selección de variables predictoras\n",
    "X = df[['duration', 'budget', 'num_user_for_reviews', 'num_critic_for_reviews']].fillna(0)\n",
    "y = df['clasificacion_imdb']\n",
    "\n",
    "# Normalización de variables\n",
    "scaler = StandardScaler()\n",
    "X_scaled = scaler.fit_transform(X)\n",
    "\n",
    "# División en datos de entrenamiento y prueba\n",
    "X_train, X_test, y_train, y_test = train_test_split(X_scaled, y, test_size=0.2, random_state=42)\n"
   ]
  },
  {
   "cell_type": "code",
   "execution_count": 10,
   "id": "d2c01082",
   "metadata": {},
   "outputs": [
    {
     "name": "stdout",
     "output_type": "stream",
     "text": [
      "k = 1, Accuracy = 0.5732\n",
      "k = 2, Accuracy = 0.4858\n",
      "k = 3, Accuracy = 0.6016\n",
      "k = 4, Accuracy = 0.6159\n",
      "k = 5, Accuracy = 0.6341\n",
      "k = 6, Accuracy = 0.6433\n",
      "k = 7, Accuracy = 0.6596\n",
      "k = 8, Accuracy = 0.6413\n",
      "k = 9, Accuracy = 0.6524\n",
      "k = 10, Accuracy = 0.6453\n",
      "k = 11, Accuracy = 0.6463\n",
      "k = 12, Accuracy = 0.6606\n",
      "k = 13, Accuracy = 0.6575\n",
      "k = 14, Accuracy = 0.6697\n",
      "k = 15, Accuracy = 0.6677\n",
      "k = 16, Accuracy = 0.6657\n",
      "k = 17, Accuracy = 0.6596\n",
      "k = 18, Accuracy = 0.6677\n",
      "k = 19, Accuracy = 0.6616\n",
      "k = 20, Accuracy = 0.6728\n"
     ]
    }
   ],
   "source": [
    "# Probar diferentes valores de k\n",
    "for k in range(1, 21):\n",
    "    knn = KNeighborsClassifier(n_neighbors=k)\n",
    "    knn.fit(X_train, y_train)\n",
    "    acc = knn.score(X_test, y_test)\n",
    "    print(f\"k = {k}, Accuracy = {acc:.4f}\")\n"
   ]
  },
  {
   "cell_type": "code",
   "execution_count": 11,
   "id": "c83f7490",
   "metadata": {},
   "outputs": [
    {
     "name": "stdout",
     "output_type": "stream",
     "text": [
      "Accuracy: 0.6341463414634146\n",
      "\n",
      "Reporte de clasificación:\n",
      "              precision    recall  f1-score   support\n",
      "\n",
      "        Alta       0.41      0.32      0.36       150\n",
      "        Baja       0.38      0.26      0.31       177\n",
      "       Media       0.71      0.81      0.76       657\n",
      "\n",
      "    accuracy                           0.63       984\n",
      "   macro avg       0.50      0.46      0.47       984\n",
      "weighted avg       0.61      0.63      0.61       984\n",
      "\n"
     ]
    }
   ],
   "source": [
    "# Modelo final con k óptimo\n",
    "modelo_knn = KNeighborsClassifier(n_neighbors=5)\n",
    "modelo_knn.fit(X_train, y_train)\n",
    "\n",
    "# Predicciones\n",
    "y_pred = modelo_knn.predict(X_test)\n",
    "\n",
    "# Evaluación\n",
    "print(\"Accuracy:\", accuracy_score(y_test, y_pred))\n",
    "print(\"\\nReporte de clasificación:\")\n",
    "print(classification_report(y_test, y_pred))\n"
   ]
  },
  {
   "cell_type": "code",
   "execution_count": 12,
   "id": "0eb74528",
   "metadata": {},
   "outputs": [
    {
     "data": {
      "image/png": "[encoded data removed]",
      "text/plain": [
       "<Figure size 640x480 with 2 Axes>"
      ]
     },
     "metadata": {},
     "output_type": "display_data"
    }
   ],
   "source": [
    "# Matriz de confusión\n",
    "ConfusionMatrixDisplay.from_estimator(modelo_knn, X_test, y_test)\n",
    "plt.title(\"Matriz de Confusión - KNN\")\n",
    "plt.show()\n"
   ]
  },
  {
   "cell_type": "markdown",
   "id": "0a3385c1",
   "metadata": {},
   "source": [
    "## Conclusión detallada del modelo KNN\n",
    "\n",
    "La matriz de confusión muestra que el modelo KNN tiene buen desempeño en la clasificación de películas con puntuación \"Media\", pero falla frecuentemente al distinguir entre \"Alta\" y \"Baja\".\n",
    "\n",
    "Esto puede deberse a:\n",
    "\n",
    "- Un fuerte **desbalance de clases** en el conjunto de datos.\n",
    "- Similitud numérica en variables entre clases extremas.\n",
    "- Limitaciones propias del algoritmo KNN, que depende fuertemente de la distancia y del número de vecinos (k).\n",
    "\n",
    "A pesar de lograr una **accuracy general de 61%**, el modelo podría mejorarse aplicando técnicas de:\n",
    "- Balanceo de clases (como SMOTE o undersampling),\n",
    "- Ingeniería de características más descriptivas,\n",
    "- Pruebas con clasificadores más robustos como árboles de decisión, Random Forest o SVM.\n",
    "\n",
    "El análisis realizado cumple con los objetivos de esta actividad y permite observar fortalezas y debilidades del enfoque de clasificación con KNN.\n"
   ]
  },
  {
   "cell_type": "markdown",
   "id": "1a8ab7dc",
   "metadata": {},
   "source": []
  }
 ],
 "metadata": {
  "kernelspec": {
   "display_name": "env",
   "language": "python",
   "name": "python3"
  },
  "language_info": {
   "codemirror_mode": {
    "name": "ipython",
    "version": 3
   },
   "file_extension": ".py",
   "mimetype": "text/x-python",
   "name": "python",
   "nbconvert_exporter": "python",
   "pygments_lexer": "ipython3",
   "version": "3.13.0"
  }
 },
 "nbformat": 4,
 "nbformat_minor": 5
}
